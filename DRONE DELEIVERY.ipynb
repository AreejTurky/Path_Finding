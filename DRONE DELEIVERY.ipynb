{
 "cells": [
  {
   "attachments": {
    "1114584.png": {
     "image/png": "[encoded data removed]"
    }
   },
   "cell_type": "markdown",
   "id": "d0f1f060",
   "metadata": {},
   "source": [
    "\n",
    "![1114584.png](attachment:1114584.png)\n",
    "\n",
    "\n",
    "# DRONE DELIVERY\n",
    "\n",
    "\n",
    "                                    \n",
    "# Introduction \n",
    "### Objectives \n",
    "\n",
    " \n",
    "\n",
    "Over the last few years, drones have been deployed to support delivery, according to COVID-19 pandemic which has taken a significant toll on people all over the world. Drones have helped people to comply with social distancing rules, as they provide contact-free delivery services. \n",
    "\n",
    "  \n",
    "\n",
    " In addition, drones help with transportation in many ways, such as avoiding traffic congestion, allowing for faster deliveries, and providing lower transportation costs. In contrast with truck delivery, which can work over a longer range, as it is fuel-based, and trucks can carry heavy and large wight whereas the drones cannot. Nonetheless, traditional truck delivery is slow and has high transportation costs. As a team we have chosen drone delivery over truck deliver because it could minimize the total operational costs and time.  \n",
    "\n",
    "  \n",
    "\n",
    "However, we intend to cover the abstraction of this problem by ignoring the effects of the drone such as limit for the shipment weight, as drones cannot carry heavy wights, drones are battery-powered, thereby limiting their delivery ranges and we are not going to consider the charging process. In this project we will discuss a problem of Drone Delivery and try to solve it using the A* algorithm. \n",
    "\n",
    " \n",
    "\n",
    " \n",
    "\n",
    " \n",
    " \n",
    "\n",
    " \n",
    "\n",
    " \n",
    "\n",
    "## Our problem \n",
    "### Explain the problem        \n",
    "\n",
    "\n",
    "Drone Delivery is graph problem implemented using A* algorithm, it defined on graph G=(V, A) where A is a set of arcs, each of which links two nodes in V, as V = {0, . . ., n + 1}, where nodes 0 represent the start point which is the warehouse of the shipments that drone’s start point and n + 1 represent the end point where is the drone depot after it delivers all the shipments to the all-customer locations, the nodes 1, . . ., n are customer locations. The set of customers is represented by N = {1, . . ., n}. \n",
    "\n",
    "  \n",
    "\n",
    "The objective of this implementation is to find the tour with the shortest delivery path such that all customer locations are served by the drone. The pickup and delivery path. \n",
    "\n",
    "  \n",
    "\n",
    "#### There are additional constraints that need to be considered: \n",
    "\n",
    "• The drone must start from the warehouse and ends in the drone depot. \n",
    "\n",
    "• Houses can only be served once.  \n",
    "\n",
    "• The drone cannot go to the depot unless it serves all the {1, . . ., n} Houses locations. \n",
    "\n",
    "• In each node aka \"n\" the drone looks for the next node that seems closest to the node \"n\" at this moment.  \n",
    "\n",
    "• The drone does not have a rendezvous node before the drone depot node. \n",
    "\n",
    " \n",
    "\n",
    "\n",
    "  \n",
    "\n",
    " \n",
    " \n",
    "\n",
    " \n",
    "\n",
    "## problem formulation  \n",
    "\n",
    "\n",
    "In order to understand the problem and simplify it, we must strip it of other details as we mentioned above such as the speed of the drone, delivery path congestion, weather, stopping to fill up battery ... etc. \n",
    "\n",
    "#### Problem formulation \n",
    "o Initial state : Warehouse\n",
    "\n",
    "o Actions : Go from warehouse/houses \n",
    "\n",
    "o State space : each house that will be delivered, Warehouse and depot \n",
    "\n",
    "o Goal test : reach the depot in min Time and all target houses are covered. \n",
    "\n",
    " \n",
    "\n",
    "\n",
    "\n",
    "\n",
    "\n",
    " "
   ]
  },
  {
   "cell_type": "markdown",
   "id": "fe66fe89",
   "metadata": {},
   "source": [
    "\n",
    "# A* Algorithm \n",
    "\n",
    " \n",
    "\n",
    "It’s an Artificial Intelligence Algorithm used to find the shortest possible path from start to end state. \n",
    "\n",
    "In our problem, we are trying to apply this algorithm with multiple heuristics function to achieve the goal with other preferences. The comparison between heuristics will be discussed later. \n",
    "\n",
    "\n",
    "\n",
    " ### Implementation \n",
    "\n",
    " "
   ]
  },
  {
   "cell_type": "code",
   "execution_count": null,
   "id": "00d981d2",
   "metadata": {},
   "outputs": [],
   "source": [
    "class Graph:\n",
    "    def __init__(self, adjac_lis):\n",
    "        self.adjac_lis = adjac_lis\n",
    " \n",
    "    def get_neighbors(self, v):\n",
    "        return self.adjac_lis[v]"
   ]
  },
  {
   "cell_type": "markdown",
   "id": "4133481b",
   "metadata": {},
   "source": [
    "#### This is heuristic function which is having equal values for all nodes"
   ]
  },
  {
   "cell_type": "code",
   "execution_count": null,
   "id": "14c43623",
   "metadata": {},
   "outputs": [],
   "source": [
    " def h(self, n):\n",
    "        H = {\n",
    "            'Source': 1,\n",
    "            'House1': 1,\n",
    "            'House2': 1,\n",
    "            'House3': 1,\n",
    "            'Destination': 1\n",
    "        }\n",
    " \n",
    "        return H[n]"
   ]
  },
  {
   "cell_type": "markdown",
   "id": "24db3128",
   "metadata": {},
   "source": [
    "#### In this open_lst is a lisy of nodes which have been visited, but who's neighbours haven't all been always inspected, It starts off with the start node And closed_lst is a list of nodes which have been visited and who's neighbors have been always inspected"
   ]
  },
  {
   "cell_type": "code",
   "execution_count": null,
   "id": "b0a8b9a9",
   "metadata": {},
   "outputs": [],
   "source": [
    "\n",
    "    def a_star_algorithm(self, start, stop):\n",
    "      \n",
    "        open_lst = set([start])\n",
    "        closed_lst = set([])"
   ]
  },
  {
   "cell_type": "markdown",
   "id": "359b2d1d",
   "metadata": {},
   "source": [
    "#### poo has present distances from start to all other nodes , the default value is +infinity"
   ]
  },
  {
   "cell_type": "code",
   "execution_count": null,
   "id": "ffc3898d",
   "metadata": {},
   "outputs": [],
   "source": [
    "poo = {}\n",
    "        poo[start] = 0\n",
    "        total=0"
   ]
  },
  {
   "cell_type": "markdown",
   "id": "6d731e74",
   "metadata": {},
   "source": [
    "#### par contains an adjac mapping of all nodes"
   ]
  },
  {
   "cell_type": "code",
   "execution_count": null,
   "id": "72abe7d5",
   "metadata": {},
   "outputs": [],
   "source": [
    "par = {}\n",
    "        par[start] = start\n",
    " \n",
    "        while len(open_lst) > 0:\n",
    "            n = None"
   ]
  },
  {
   "cell_type": "markdown",
   "id": "d5ec1550",
   "metadata": {},
   "source": [
    "#### it will find a node with the lowest value of f() -"
   ]
  },
  {
   "cell_type": "code",
   "execution_count": null,
   "id": "615b0448",
   "metadata": {},
   "outputs": [],
   "source": [
    "for v in open_lst:\n",
    "                if n == None or poo[v] + self.h(v) < poo[n] + self.h(n):\n",
    "                    n = v;\n",
    " \n",
    "            if n == None:\n",
    "                print('Path does not exist!')\n",
    "                return None"
   ]
  },
  {
   "cell_type": "markdown",
   "id": "a7601140",
   "metadata": {},
   "source": [
    "#### if the current node is the stop ,then we start again from start"
   ]
  },
  {
   "cell_type": "code",
   "execution_count": null,
   "id": "c0115b99",
   "metadata": {},
   "outputs": [],
   "source": [
    "if n == stop:\n",
    "                reconst_path = []\n",
    " \n",
    "                while par[n] != n:\n",
    "                    reconst_path.append(n)\n",
    "                    n = par[n]\n",
    " \n",
    "                reconst_path.append(start)\n",
    " \n",
    "                reconst_path.reverse()\n",
    " \n",
    "                print('Path found: {}'.format(reconst_path))\n",
    "     \n",
    "                return reconst_path\n",
    " "
   ]
  },
  {
   "cell_type": "markdown",
   "id": "c7256a6c",
   "metadata": {},
   "source": [
    "#### for all the neighbors of the current node do -> if the current node is not presentin both open_lst and closed_lst add it to open_lst and note n as it's par"
   ]
  },
  {
   "cell_type": "code",
   "execution_count": null,
   "id": "9ab32540",
   "metadata": {},
   "outputs": [],
   "source": [
    "for (m, weight) in self.get_neighbors(n):\n",
    "              \n",
    "                if m not in open_lst and m not in closed_lst:\n",
    "                    open_lst.add(m)\n",
    "                    par[m] = n\n",
    "                    poo[m] = poo[n] + weight\n",
    "                  "
   ]
  },
  {
   "cell_type": "markdown",
   "id": "fe1f1380",
   "metadata": {},
   "source": [
    "#### otherwise, check if it's quicker to first visit n, then m and if it is, update par data and poo data and if the node was in the closed_lst, move it to open_lst"
   ]
  },
  {
   "cell_type": "code",
   "execution_count": null,
   "id": "8a785cd8",
   "metadata": {},
   "outputs": [],
   "source": [
    "   else:\n",
    "                    if poo[m] > poo[n] + weight:\n",
    "                        poo[m] = poo[n] + weight\n",
    "                        par[m] = n\n",
    "                        print('The cost = ' , poo[m])\n",
    "                        \n",
    "          \n",
    "                        if m in closed_lst:\n",
    "                            closed_lst.remove(m)\n",
    "                            open_lst.add(m)\n",
    "                         "
   ]
  },
  {
   "cell_type": "markdown",
   "id": "3f410ad4",
   "metadata": {},
   "source": [
    "#### remove n from the open_lst, and add it to closed_lst because all of his neighbors were inspected"
   ]
  },
  {
   "cell_type": "code",
   "execution_count": null,
   "id": "fa5336d5",
   "metadata": {},
   "outputs": [],
   "source": [
    "open_lst.remove(n)\n",
    "            closed_lst.add(n)\n",
    "             \n",
    "    \n",
    "        print('Path does not exist!')\n",
    "        return None"
   ]
  },
  {
   "cell_type": "markdown",
   "id": "ac7b0ac0",
   "metadata": {},
   "source": [
    "#### References and resources :\n"
   ]
  },
  {
   "cell_type": "code",
   "execution_count": null,
   "id": "88f9897a",
   "metadata": {},
   "outputs": [],
   "source": []
  }
 ],
 "metadata": {
  "kernelspec": {
   "display_name": "Python 3 (ipykernel)",
   "language": "python",
   "name": "python3"
  },
  "language_info": {
   "codemirror_mode": {
    "name": "ipython",
    "version": 3
   },
   "file_extension": ".py",
   "mimetype": "text/x-python",
   "name": "python",
   "nbconvert_exporter": "python",
   "pygments_lexer": "ipython3",
   "version": "3.9.7"
  }
 },
 "nbformat": 4,
 "nbformat_minor": 5
}
